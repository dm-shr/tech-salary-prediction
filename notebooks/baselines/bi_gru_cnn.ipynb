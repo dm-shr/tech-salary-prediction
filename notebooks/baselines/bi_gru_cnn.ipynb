{
  "cells": [
    {
      "cell_type": "code",
      "execution_count": null,
      "metadata": {
        "id": "ar35uZc9T5Di"
      },
      "outputs": [],
      "source": [
        "# Extra dependencies\n",
        "%pip install -U pymystem3 gensim -qqq\n",
        "\n",
        "# Service functions\n",
        "import pandas as pd\n",
        "import numpy as np\n",
        "import torch\n",
        "import torch.nn as nn\n",
        "from torch.utils.data import Dataset, DataLoader\n",
        "import re\n",
        "import pickle\n",
        "from sklearn.model_selection import train_test_split\n",
        "from sklearn.metrics import r2_score, mean_absolute_error, mean_squared_error\n",
        "from pymystem3 import Mystem\n",
        "from gensim.models import KeyedVectors\n",
        "import gc\n",
        "import warnings\n",
        "\n",
        "warnings.simplefilter(action='ignore', category=FutureWarning)\n",
        "\n",
        "def memory_cleanup():\n",
        "    \"Clean up memory\"\n",
        "    gc.collect()\n",
        "    torch.cuda.empty_cache()\n",
        "\n",
        "def set_seed(seed: int) -> None:\n",
        "    \"Set seed for reproducibility\"\n",
        "    np.random.seed(seed)\n",
        "    torch.manual_seed(seed)\n",
        "    torch.cuda.manual_seed(seed)\n",
        "    torch.backends.cudnn.deterministic = True\n",
        "    torch.backends.cudnn.benchmark = False\n",
        "\n",
        "def display_metrics_with_ci(history: dict):\n",
        "    \"\"\"Plot mean and confidence intervals for train and test metrics\"\"\"\n",
        "    import numpy as np\n",
        "    import matplotlib.pyplot as plt\n",
        "    from scipy.stats import t\n",
        "\n",
        "    seeds = list(history.keys())\n",
        "\n",
        "    def mean_confidence_interval(data, confidence=0.95):\n",
        "        n = len(data)\n",
        "        m, se = np.mean(data), np.std(data) / np.sqrt(n)\n",
        "        h = se * t.ppf((1 + confidence) / 2, n-1)\n",
        "        return m, m-h, m+h\n",
        "\n",
        "    r2_train_values = [history[seed]['train_r2'] for seed in seeds]\n",
        "    r2_test_values = [history[seed]['test_r2'] for seed in seeds]\n",
        "    r2_train_values = np.array(r2_train_values)\n",
        "    r2_test_values = np.array(r2_test_values)\n",
        "\n",
        "    r2_train_mean = np.mean(r2_train_values, axis=0)\n",
        "    r2_test_mean = np.mean(r2_test_values, axis=0)\n",
        "\n",
        "    r2_train_ci = np.array([mean_confidence_interval(r2_train_values[:, i]) for i in range(r2_train_values.shape[1])])\n",
        "    r2_test_ci = np.array([mean_confidence_interval(r2_test_values[:, i]) for i in range(r2_test_values.shape[1])])\n",
        "\n",
        "    plt.figure(figsize=(10, 6))\n",
        "    plt.plot(r2_train_mean[1:], label='train')\n",
        "    plt.fill_between(range(len(r2_train_mean[1:])), r2_train_ci[1:, 1], r2_train_ci[1:, 2], alpha=0.3)\n",
        "    plt.plot(r2_test_mean[1:], label='test')\n",
        "    plt.fill_between(range(len(r2_test_mean[1:])), r2_test_ci[1:, 1], r2_test_ci[1:, 2], alpha=0.3)\n",
        "    plt.title('Mean R2 by epoch, with 95% CI')\n",
        "    plt.xlabel('Epoch')\n",
        "    plt.ylabel('R2')\n",
        "    plt.legend()\n",
        "    plt.show()\n",
        "\n",
        "    # Calculate test metrics for best epoch\n",
        "    mae_test_values = [history[seed]['test_mae'] for seed in seeds]\n",
        "    rmse_test_values = [history[seed]['test_rmse'] for seed in seeds]\n",
        "    mae_test_values = np.array(mae_test_values)\n",
        "    rmse_test_values = np.array(rmse_test_values)\n",
        "\n",
        "    best_epoch = np.argmax(r2_test_mean)\n",
        "    best_epoch_r2 = r2_test_mean[best_epoch]\n",
        "    best_epoch_mae = np.mean(mae_test_values, axis=0)[best_epoch]\n",
        "    best_epoch_rmse = np.mean(rmse_test_values, axis=0)[best_epoch]\n",
        "\n",
        "    r2_ci = mean_confidence_interval(r2_test_values[:, best_epoch])\n",
        "    mae_ci = mean_confidence_interval(mae_test_values[:, best_epoch])\n",
        "    rmse_ci = mean_confidence_interval(rmse_test_values[:, best_epoch])\n",
        "\n",
        "    print(f'TEST METRICS FOR THE BEST EPOCH (#{best_epoch+1})')\n",
        "    print(f'R2: mean = {best_epoch_r2:.4f}, 95% CI = [{r2_ci[1]:.4f}, {r2_ci[2]:.4f}]')\n",
        "    print(f'MAE: mean = {best_epoch_mae:.4f}, 95% CI = [{mae_ci[1]:.4f}, {mae_ci[2]:.4f}]')\n",
        "    print(f'RMSE: mean = {best_epoch_rmse:.4f}, 95% CI = [{rmse_ci[1]:.4f}, {rmse_ci[2]:.4f}]')"
      ]
    },
    {
      "cell_type": "markdown",
      "metadata": {
        "id": "eTaRiJuMTXxr"
      },
      "source": [
        "### Getting the data"
      ]
    },
    {
      "cell_type": "code",
      "execution_count": null,
      "metadata": {
        "id": "3dJij_UPTdKG",
        "colab": {
          "base_uri": "https://localhost:8080/"
        },
        "outputId": "466706ff-9aff-4a7b-f462-8334ba82ed02"
      },
      "outputs": [
        {
          "output_type": "stream",
          "name": "stdout",
          "text": [
            "--2024-12-26 11:06:34--  https://drive.usercontent.google.com/download?id=1iqg1FIPfbrZWlung6gZqve1MeQWc0Je4&export=download&authuser=1&confirm=t\n",
            "Resolving drive.usercontent.google.com (drive.usercontent.google.com)... 172.217.194.132, 2404:6800:4003:c04::84\n",
            "Connecting to drive.usercontent.google.com (drive.usercontent.google.com)|172.217.194.132|:443... connected.\n",
            "HTTP request sent, awaiting response... 200 OK\n",
            "Length: 218678075 (209M) [application/octet-stream]\n",
            "Saving to: ‘./data/dataset.csv’\n",
            "\n",
            "./data/dataset.csv  100%[===================>] 208.55M  73.5MB/s    in 2.8s    \n",
            "\n",
            "2024-12-26 11:06:39 (73.5 MB/s) - ‘./data/dataset.csv’ saved [218678075/218678075]\n",
            "\n"
          ]
        }
      ],
      "source": [
        "\n",
        "!mkdir data\n",
        "!mkdir data/history\n",
        "!wget --no-check-certificate 'https://drive.usercontent.google.com/download?id=1iqg1FIPfbrZWlung6gZqve1MeQWc0Je4&export=download&authuser=1&confirm=t' -O './data/dataset.csv'\n"
      ]
    },
    {
      "cell_type": "markdown",
      "metadata": {
        "id": "KjdtgwVWUDbD"
      },
      "source": [
        "### Data load"
      ]
    },
    {
      "cell_type": "code",
      "execution_count": null,
      "metadata": {
        "id": "raJ8lcULUKKz",
        "colab": {
          "base_uri": "https://localhost:8080/"
        },
        "outputId": "c5a17f3d-7671-40ae-c688-0fd5bb28dbc6"
      },
      "outputs": [
        {
          "output_type": "stream",
          "name": "stdout",
          "text": [
            "Loading and preprocessing data...\n"
          ]
        }
      ],
      "source": [
        "print(\"Loading and preprocessing data...\")\n",
        "df = pd.read_csv('./data/dataset.csv')\n",
        "\n",
        "text_col_1 = 'description_no_numbers'\n",
        "text_col_2 = 'title_company_location_skills_source'"
      ]
    },
    {
      "cell_type": "code",
      "execution_count": null,
      "metadata": {
        "id": "2pxIaIPwnaiB"
      },
      "outputs": [],
      "source": [
        "target_col = 'log_salary_from'"
      ]
    },
    {
      "cell_type": "code",
      "execution_count": null,
      "metadata": {
        "id": "4PH9Y8m5jUrU"
      },
      "outputs": [],
      "source": [
        "title_company_location_skills_feature_template = \"\"\"\n",
        "Позиция: {position}\n",
        "Компания: {company}\n",
        "Место: {location}\n",
        "Навыки: {skills}\n",
        "Источник: {source}\n",
        "\"\"\"\n",
        "\n",
        "df['skills'] = df['skills'].fillna('Не указаны')\n",
        "df[text_col_2] = df.apply(lambda x: title_company_location_skills_feature_template.format(\n",
        "    position=x['title'],\n",
        "    company=x['company'],\n",
        "    location=x['location'],\n",
        "    skills=x['skills'],\n",
        "    source=x['source']\n",
        "), axis=1)"
      ]
    },
    {
      "cell_type": "code",
      "execution_count": null,
      "metadata": {
        "colab": {
          "base_uri": "https://localhost:8080/"
        },
        "id": "nl4ROC5nWDER",
        "outputId": "e4850570-b9fc-47e0-f08c-076dad91548a"
      },
      "outputs": [
        {
          "output_type": "stream",
          "name": "stderr",
          "text": [
            "Installing mystem to /root/.local/bin/mystem from http://download.cdn.yandex.net/mystem/mystem-3.1-linux-64bit.tar.gz\n"
          ]
        }
      ],
      "source": [
        "# Initialize tokenizer\n",
        "m = Mystem()\n",
        "\n",
        "def simple_tokenize(text):\n",
        "    \"Tokenize and lemmatize text\"\n",
        "    text = text.lower()\n",
        "    lemmas = m.lemmatize(text)\n",
        "    tokens = [re.sub(r'[\\W_]+', '', lemma) for lemma in lemmas]\n",
        "    tokens = [t for t in tokens if t.strip() != '']\n",
        "    return tokens\n",
        "\n",
        "# Build vocabulary and word2idx mapping\n",
        "def build_vocab(texts, min_freq=2):\n",
        "    \"Build vocabulary with minimum frequency threshold\"\n",
        "    freq = {}\n",
        "    for t in texts:\n",
        "        for w in t:\n",
        "            freq[w] = freq.get(w, 0) + 1\n",
        "\n",
        "    freq = {k:v for k,v in freq.items() if v >= min_freq}\n",
        "    word2idx = {'<PAD>':0, '<UNK>':1}\n",
        "    for w in freq:\n",
        "        if w not in word2idx:\n",
        "            word2idx[w] = len(word2idx)\n",
        "    return word2idx\n",
        "\n",
        "# Preparing sequences\n",
        "def text_to_seq(tokens, word2idx):\n",
        "    \"Convert tokens to sequence of indices\"\n",
        "    return [word2idx.get(w, 1) for w in tokens]\n",
        "\n",
        "def pad_sequence(seq, max_len, pad_idx=0, left_pad=False):\n",
        "    \"Pad sequence to fixed length\"\n",
        "    seq_len = len(seq)\n",
        "    if seq_len < max_len:\n",
        "        pad_size = max_len - seq_len\n",
        "        if left_pad:\n",
        "            seq = [pad_idx]*pad_size + seq\n",
        "        else:\n",
        "            seq = seq + [pad_idx]*pad_size\n",
        "    else:\n",
        "        if left_pad:\n",
        "            seq = seq[-max_len:]\n",
        "        else:\n",
        "            seq = seq[:max_len]\n",
        "    return seq"
      ]
    },
    {
      "cell_type": "code",
      "execution_count": null,
      "metadata": {
        "id": "LyVLcEabWS_w"
      },
      "outputs": [],
      "source": [
        "class TextDataset(Dataset):\n",
        "    def __init__(self, X, y):\n",
        "        self.X = torch.tensor(X, dtype=torch.long)\n",
        "        self.y = torch.tensor(y, dtype=torch.float32)\n",
        "\n",
        "    def __len__(self):\n",
        "        return len(self.y)\n",
        "\n",
        "    def __getitem__(self, idx):\n",
        "        return self.X[idx], self.y[idx]"
      ]
    },
    {
      "cell_type": "markdown",
      "metadata": {
        "id": "n0id7vipV9um"
      },
      "source": [
        "### Model architecture"
      ]
    },
    {
      "cell_type": "code",
      "execution_count": null,
      "metadata": {
        "id": "gLQIf1doWYno"
      },
      "outputs": [],
      "source": [
        "\n",
        "class BiGRUCNNModel(nn.Module):\n",
        "    def __init__(self, vocab_size, embed_dim=256, gru_units=128, conv_filters=64,\n",
        "                 kernel_size=3, row_max_length=1000):\n",
        "        super(BiGRUCNNModel, self).__init__()\n",
        "\n",
        "        self.embedding = nn.Embedding(vocab_size, embed_dim, padding_idx=0)\n",
        "\n",
        "        if 'weights_matrix' in globals():\n",
        "            self.embedding.weight.data.copy_(torch.from_numpy(weights_matrix))\n",
        "\n",
        "        self.gru = nn.GRU(embed_dim, gru_units, bidirectional=True, batch_first=True)\n",
        "        self.conv = nn.Conv1d(in_channels=gru_units*2, out_channels=conv_filters,\n",
        "                            kernel_size=kernel_size, padding='same')\n",
        "        self.pool = nn.MaxPool1d(kernel_size=2)\n",
        "        self.dropout = nn.Dropout(0.4)\n",
        "        self.fc = nn.Linear(conv_filters * (row_max_length//2), 1)\n",
        "\n",
        "    def forward(self, x):\n",
        "        emb = self.embedding(x)\n",
        "        gru_out, _ = self.gru(emb)\n",
        "        gru_out = gru_out.permute(0, 2, 1)\n",
        "        conv_out = self.conv(gru_out)\n",
        "        pooled = self.pool(conv_out)\n",
        "        flat = pooled.flatten(start_dim=1)\n",
        "        drop = self.dropout(flat)\n",
        "        out = self.fc(drop)\n",
        "        return out.squeeze(1)"
      ]
    },
    {
      "cell_type": "markdown",
      "metadata": {
        "id": "lxEo8GtlWbzA"
      },
      "source": [
        "### Training function"
      ]
    },
    {
      "cell_type": "code",
      "execution_count": null,
      "metadata": {
        "id": "Tuig-AZ4Wk42"
      },
      "outputs": [],
      "source": [
        "def fit_eval(model, train_dl, test_dl, num_epochs=10, lr=1e-3, device='cuda'):\n",
        "    model = model.to(device)\n",
        "    optimizer = torch.optim.Adam(model.parameters(), lr=lr, weight_decay=1e-5)\n",
        "    criterion = nn.L1Loss()\n",
        "\n",
        "    history = {\n",
        "        \"train_loss\": [], \"test_loss\": [],\n",
        "        \"train_mae\": [], \"test_mae\": [],\n",
        "        \"train_r2\": [], \"test_r2\": [],\n",
        "        \"train_rmse\": [], \"test_rmse\": []\n",
        "    }\n",
        "\n",
        "    for epoch in range(num_epochs):\n",
        "        # Training phase\n",
        "        model.train()\n",
        "        train_losses = []\n",
        "        all_preds = []\n",
        "        all_labels = []\n",
        "\n",
        "        for Xb, yb in train_dl:\n",
        "            Xb = Xb.to(device)\n",
        "            yb = yb.to(device)\n",
        "\n",
        "            optimizer.zero_grad()\n",
        "            preds = model(Xb)\n",
        "            loss = criterion(preds, yb)\n",
        "            loss.backward()\n",
        "            optimizer.step()\n",
        "\n",
        "            train_losses.append(loss.item())\n",
        "            all_preds.extend(preds.detach().cpu().numpy())\n",
        "            all_labels.extend(yb.cpu().numpy())\n",
        "\n",
        "        train_loss = np.mean(train_losses)\n",
        "        train_mae = mean_absolute_error(all_labels, all_preds)\n",
        "        train_r2 = r2_score(all_labels, all_preds)\n",
        "        train_rmse = np.sqrt(mean_squared_error(all_labels, all_preds))\n",
        "\n",
        "        # Evaluation phase\n",
        "        model.eval()\n",
        "        test_losses = []\n",
        "        all_preds_test = []\n",
        "        all_labels_test = []\n",
        "\n",
        "        with torch.no_grad():\n",
        "            for Xb, yb in test_dl:\n",
        "                Xb = Xb.to(device)\n",
        "                yb = yb.to(device)\n",
        "\n",
        "                preds = model(Xb)\n",
        "                loss = criterion(preds, yb)\n",
        "\n",
        "                test_losses.append(loss.item())\n",
        "                all_preds_test.extend(preds.cpu().numpy())\n",
        "                all_labels_test.extend(yb.cpu().numpy())\n",
        "\n",
        "        test_loss = np.mean(test_losses)\n",
        "        test_mae = mean_absolute_error(all_labels_test, all_preds_test)\n",
        "        test_r2 = r2_score(all_labels_test, all_preds_test)\n",
        "        test_rmse = np.sqrt(mean_squared_error(all_labels_test, all_preds_test))\n",
        "\n",
        "        # Update history\n",
        "        history[\"train_loss\"].append(train_loss)\n",
        "        history[\"test_loss\"].append(test_loss)\n",
        "        history[\"train_mae\"].append(train_mae)\n",
        "        history[\"test_mae\"].append(test_mae)\n",
        "        history[\"train_r2\"].append(train_r2)\n",
        "        history[\"test_r2\"].append(test_r2)\n",
        "        history[\"train_rmse\"].append(train_rmse)\n",
        "        history[\"test_rmse\"].append(test_rmse)\n",
        "\n",
        "        print(f\"Epoch {epoch+1}/{num_epochs} | \"\n",
        "              f\"Train Loss: {train_loss:.4f}, Test Loss: {test_loss:.4f}, \"\n",
        "              f\"Train R2: {train_r2:.4f}, Test R2: {test_r2:.4f}, \"\n",
        "              f\"Train MAE: {train_mae:.4f}, Test MAE: {test_mae:.4f}\")\n",
        "\n",
        "    return history"
      ]
    },
    {
      "cell_type": "markdown",
      "metadata": {
        "id": "AgN69_3uWnF8"
      },
      "source": [
        "### Main experiment"
      ]
    },
    {
      "cell_type": "code",
      "execution_count": null,
      "metadata": {
        "colab": {
          "base_uri": "https://localhost:8080/",
          "height": 1000
        },
        "id": "a4app1jGKlVZ",
        "outputId": "2fbcf6c7-fe29-4576-9051-0f0ad4994d2d"
      },
      "outputs": [
        {
          "output_type": "stream",
          "name": "stdout",
          "text": [
            "Starting main experiment...\n",
            "\n",
            "Starting for seed 42...\n",
            "----------------------------------------------------------------------------------------------------\n",
            "Loading pretrained word vectors...\n",
            "--2024-12-26 11:10:07--  http://vectors.nlpl.eu/repository/20/180.zip\n",
            "Resolving vectors.nlpl.eu (vectors.nlpl.eu)... 129.240.189.200, 2001:700:112::200\n",
            "Connecting to vectors.nlpl.eu (vectors.nlpl.eu)|129.240.189.200|:80... connected.\n",
            "HTTP request sent, awaiting response... 200 OK\n",
            "Length: 484452317 (462M) [application/zip]\n",
            "Saving to: ‘rus_model.zip’\n",
            "\n",
            "rus_model.zip       100%[===================>] 462.01M  15.3MB/s    in 32s     \n",
            "\n",
            "2024-12-26 11:10:40 (14.4 MB/s) - ‘rus_model.zip’ saved [484452317/484452317]\n",
            "\n",
            "Archive:  rus_model.zip\n",
            "  inflating: meta.json               \n",
            "  inflating: model.bin               \n",
            "  inflating: model.txt               \n",
            "  inflating: README                  \n",
            "Epoch 1/20 | Train Loss: 0.5225, Test Loss: 0.3607, Train R2: -1.1456, Test R2: 0.4579, Train MAE: 0.5227, Test MAE: 0.3607\n",
            "Epoch 2/20 | Train Loss: 0.3883, Test Loss: 0.5459, Train R2: 0.3949, Test R2: -0.0882, Train MAE: 0.3883, Test MAE: 0.5458\n",
            "Epoch 3/20 | Train Loss: 0.3715, Test Loss: 0.3668, Train R2: 0.4380, Test R2: 0.4499, Train MAE: 0.3715, Test MAE: 0.3668\n",
            "Epoch 4/20 | Train Loss: 0.3526, Test Loss: 0.3516, Train R2: 0.4902, Test R2: 0.4996, Train MAE: 0.3526, Test MAE: 0.3516\n",
            "Epoch 5/20 | Train Loss: 0.3458, Test Loss: 0.3554, Train R2: 0.5109, Test R2: 0.4884, Train MAE: 0.3459, Test MAE: 0.3554\n",
            "Epoch 6/20 | Train Loss: 0.3298, Test Loss: 0.3564, Train R2: 0.5500, Test R2: 0.4801, Train MAE: 0.3299, Test MAE: 0.3564\n",
            "Epoch 7/20 | Train Loss: 0.3244, Test Loss: 0.3304, Train R2: 0.5650, Test R2: 0.5552, Train MAE: 0.3243, Test MAE: 0.3304\n",
            "Epoch 8/20 | Train Loss: 0.3160, Test Loss: 0.3196, Train R2: 0.5840, Test R2: 0.5782, Train MAE: 0.3159, Test MAE: 0.3196\n",
            "Epoch 9/20 | Train Loss: 0.3015, Test Loss: 0.3776, Train R2: 0.6207, Test R2: 0.4333, Train MAE: 0.3015, Test MAE: 0.3776\n",
            "Epoch 10/20 | Train Loss: 0.2951, Test Loss: 0.3316, Train R2: 0.6351, Test R2: 0.5418, Train MAE: 0.2951, Test MAE: 0.3316\n",
            "Epoch 11/20 | Train Loss: 0.2906, Test Loss: 0.3156, Train R2: 0.6468, Test R2: 0.5810, Train MAE: 0.2906, Test MAE: 0.3156\n",
            "Epoch 12/20 | Train Loss: 0.2813, Test Loss: 0.3150, Train R2: 0.6698, Test R2: 0.5910, Train MAE: 0.2813, Test MAE: 0.3150\n",
            "Epoch 13/20 | Train Loss: 0.2701, Test Loss: 0.3116, Train R2: 0.6927, Test R2: 0.5972, Train MAE: 0.2701, Test MAE: 0.3117\n",
            "Epoch 14/20 | Train Loss: 0.2624, Test Loss: 0.3139, Train R2: 0.7120, Test R2: 0.5938, Train MAE: 0.2624, Test MAE: 0.3139\n",
            "Epoch 15/20 | Train Loss: 0.2549, Test Loss: 0.3121, Train R2: 0.7261, Test R2: 0.5911, Train MAE: 0.2550, Test MAE: 0.3122\n",
            "Epoch 16/20 | Train Loss: 0.2438, Test Loss: 0.3067, Train R2: 0.7496, Test R2: 0.6100, Train MAE: 0.2437, Test MAE: 0.3067\n",
            "Epoch 17/20 | Train Loss: 0.2401, Test Loss: 0.2994, Train R2: 0.7580, Test R2: 0.6283, Train MAE: 0.2401, Test MAE: 0.2994\n",
            "Epoch 18/20 | Train Loss: 0.2336, Test Loss: 0.3038, Train R2: 0.7683, Test R2: 0.6162, Train MAE: 0.2336, Test MAE: 0.3038\n",
            "Epoch 19/20 | Train Loss: 0.2254, Test Loss: 0.2946, Train R2: 0.7852, Test R2: 0.6367, Train MAE: 0.2254, Test MAE: 0.2947\n",
            "Epoch 20/20 | Train Loss: 0.2186, Test Loss: 0.2909, Train R2: 0.7966, Test R2: 0.6469, Train MAE: 0.2186, Test MAE: 0.2910\n",
            "\n",
            "Starting for seed 78687...\n",
            "----------------------------------------------------------------------------------------------------\n",
            "Loading pretrained word vectors...\n",
            "Epoch 1/20 | Train Loss: 0.5502, Test Loss: 0.3537, Train R2: -1.4072, Test R2: 0.4854, Train MAE: 0.5503, Test MAE: 0.3538\n",
            "Epoch 2/20 | Train Loss: 0.3751, Test Loss: 0.3506, Train R2: 0.4249, Test R2: 0.4885, Train MAE: 0.3752, Test MAE: 0.3507\n",
            "Epoch 3/20 | Train Loss: 0.3600, Test Loss: 0.3530, Train R2: 0.4690, Test R2: 0.4786, Train MAE: 0.3600, Test MAE: 0.3531\n",
            "Epoch 4/20 | Train Loss: 0.3550, Test Loss: 0.3416, Train R2: 0.4833, Test R2: 0.5176, Train MAE: 0.3549, Test MAE: 0.3416\n",
            "Epoch 5/20 | Train Loss: 0.3386, Test Loss: 0.4267, Train R2: 0.5330, Test R2: 0.2810, Train MAE: 0.3386, Test MAE: 0.4267\n",
            "Epoch 6/20 | Train Loss: 0.3289, Test Loss: 0.3306, Train R2: 0.5530, Test R2: 0.5435, Train MAE: 0.3289, Test MAE: 0.3307\n",
            "Epoch 7/20 | Train Loss: 0.3178, Test Loss: 0.3248, Train R2: 0.5805, Test R2: 0.5566, Train MAE: 0.3178, Test MAE: 0.3248\n",
            "Epoch 8/20 | Train Loss: 0.3111, Test Loss: 0.3148, Train R2: 0.5978, Test R2: 0.5806, Train MAE: 0.3111, Test MAE: 0.3148\n",
            "Epoch 9/20 | Train Loss: 0.3070, Test Loss: 0.4094, Train R2: 0.6057, Test R2: 0.3511, Train MAE: 0.3071, Test MAE: 0.4094\n",
            "Epoch 10/20 | Train Loss: 0.2966, Test Loss: 0.3413, Train R2: 0.6336, Test R2: 0.5198, Train MAE: 0.2966, Test MAE: 0.3414\n",
            "Epoch 11/20 | Train Loss: 0.2858, Test Loss: 0.3202, Train R2: 0.6601, Test R2: 0.5679, Train MAE: 0.2858, Test MAE: 0.3202\n",
            "Epoch 12/20 | Train Loss: 0.2772, Test Loss: 0.3040, Train R2: 0.6784, Test R2: 0.6099, Train MAE: 0.2772, Test MAE: 0.3040\n",
            "Epoch 13/20 | Train Loss: 0.2702, Test Loss: 0.2977, Train R2: 0.6954, Test R2: 0.6231, Train MAE: 0.2702, Test MAE: 0.2977\n",
            "Epoch 14/20 | Train Loss: 0.2596, Test Loss: 0.3014, Train R2: 0.7156, Test R2: 0.6125, Train MAE: 0.2596, Test MAE: 0.3014\n",
            "Epoch 15/20 | Train Loss: 0.2484, Test Loss: 0.3368, Train R2: 0.7395, Test R2: 0.5321, Train MAE: 0.2484, Test MAE: 0.3369\n",
            "Epoch 16/20 | Train Loss: 0.2391, Test Loss: 0.3228, Train R2: 0.7597, Test R2: 0.5733, Train MAE: 0.2391, Test MAE: 0.3229\n",
            "Epoch 17/20 | Train Loss: 0.2370, Test Loss: 0.2846, Train R2: 0.7626, Test R2: 0.6564, Train MAE: 0.2370, Test MAE: 0.2846\n",
            "Epoch 18/20 | Train Loss: 0.2280, Test Loss: 0.2889, Train R2: 0.7802, Test R2: 0.6511, Train MAE: 0.2280, Test MAE: 0.2889\n",
            "Epoch 19/20 | Train Loss: 0.2233, Test Loss: 0.2810, Train R2: 0.7903, Test R2: 0.6653, Train MAE: 0.2233, Test MAE: 0.2810\n",
            "Epoch 20/20 | Train Loss: 0.2163, Test Loss: 0.2839, Train R2: 0.7987, Test R2: 0.6585, Train MAE: 0.2163, Test MAE: 0.2840\n",
            "\n",
            "Starting for seed 123123...\n",
            "----------------------------------------------------------------------------------------------------\n",
            "Loading pretrained word vectors...\n",
            "Epoch 1/20 | Train Loss: 0.5330, Test Loss: 0.3527, Train R2: -1.4730, Test R2: 0.4835, Train MAE: 0.5330, Test MAE: 0.3527\n",
            "Epoch 2/20 | Train Loss: 0.3795, Test Loss: 0.3660, Train R2: 0.4105, Test R2: 0.4514, Train MAE: 0.3795, Test MAE: 0.3659\n",
            "Epoch 3/20 | Train Loss: 0.3716, Test Loss: 0.3800, Train R2: 0.4376, Test R2: 0.4223, Train MAE: 0.3716, Test MAE: 0.3800\n",
            "Epoch 4/20 | Train Loss: 0.3586, Test Loss: 0.3869, Train R2: 0.4759, Test R2: 0.3798, Train MAE: 0.3587, Test MAE: 0.3868\n",
            "Epoch 5/20 | Train Loss: 0.3365, Test Loss: 0.3356, Train R2: 0.5334, Test R2: 0.5330, Train MAE: 0.3365, Test MAE: 0.3356\n",
            "Epoch 6/20 | Train Loss: 0.3307, Test Loss: 0.3377, Train R2: 0.5487, Test R2: 0.5211, Train MAE: 0.3307, Test MAE: 0.3377\n",
            "Epoch 7/20 | Train Loss: 0.3216, Test Loss: 0.3772, Train R2: 0.5710, Test R2: 0.4297, Train MAE: 0.3216, Test MAE: 0.3773\n",
            "Epoch 8/20 | Train Loss: 0.3186, Test Loss: 0.3186, Train R2: 0.5758, Test R2: 0.5757, Train MAE: 0.3186, Test MAE: 0.3187\n",
            "Epoch 9/20 | Train Loss: 0.3029, Test Loss: 0.3078, Train R2: 0.6185, Test R2: 0.6034, Train MAE: 0.3029, Test MAE: 0.3078\n",
            "Epoch 10/20 | Train Loss: 0.2955, Test Loss: 0.3076, Train R2: 0.6367, Test R2: 0.5976, Train MAE: 0.2955, Test MAE: 0.3076\n",
            "Epoch 11/20 | Train Loss: 0.2877, Test Loss: 0.3088, Train R2: 0.6513, Test R2: 0.6005, Train MAE: 0.2876, Test MAE: 0.3088\n",
            "Epoch 12/20 | Train Loss: 0.2755, Test Loss: 0.3012, Train R2: 0.6794, Test R2: 0.6139, Train MAE: 0.2755, Test MAE: 0.3012\n",
            "Epoch 13/20 | Train Loss: 0.2673, Test Loss: 0.3074, Train R2: 0.6999, Test R2: 0.6044, Train MAE: 0.2672, Test MAE: 0.3075\n",
            "Epoch 14/20 | Train Loss: 0.2574, Test Loss: 0.3008, Train R2: 0.7189, Test R2: 0.6189, Train MAE: 0.2574, Test MAE: 0.3008\n",
            "Epoch 15/20 | Train Loss: 0.2508, Test Loss: 0.2947, Train R2: 0.7342, Test R2: 0.6299, Train MAE: 0.2508, Test MAE: 0.2947\n",
            "Epoch 16/20 | Train Loss: 0.2429, Test Loss: 0.2982, Train R2: 0.7517, Test R2: 0.6258, Train MAE: 0.2429, Test MAE: 0.2982\n",
            "Epoch 17/20 | Train Loss: 0.2342, Test Loss: 0.3121, Train R2: 0.7673, Test R2: 0.5861, Train MAE: 0.2342, Test MAE: 0.3121\n",
            "Epoch 18/20 | Train Loss: 0.2318, Test Loss: 0.2921, Train R2: 0.7723, Test R2: 0.6433, Train MAE: 0.2318, Test MAE: 0.2921\n",
            "Epoch 19/20 | Train Loss: 0.2205, Test Loss: 0.3000, Train R2: 0.7928, Test R2: 0.6241, Train MAE: 0.2205, Test MAE: 0.3000\n",
            "Epoch 20/20 | Train Loss: 0.2186, Test Loss: 0.2877, Train R2: 0.7986, Test R2: 0.6495, Train MAE: 0.2186, Test MAE: 0.2877\n",
            "\n",
            "Displaying metrics across all seeds...\n"
          ]
        },
        {
          "output_type": "display_data",
          "data": {
            "text/plain": [
              "<Figure size 1000x600 with 1 Axes>"
            ],
            "image/png": "[encoded data removed]"
          },
          "metadata": {}
        },
        {
          "output_type": "stream",
          "name": "stdout",
          "text": [
            "TEST METRICS FOR THE BEST EPOCH (#20)\n",
            "R2: mean = 0.6517, 95% CI = [0.6393, 0.6640]\n",
            "MAE: mean = 0.2875, 95% CI = [0.2804, 0.2946]\n",
            "RMSE: mean = 0.3710, 95% CI = [0.3648, 0.3772]\n",
            "\n",
            "Saving history...\n",
            "\n",
            "Experiment completed successfully!\n"
          ]
        }
      ],
      "source": [
        "print(\"Starting main experiment...\")\n",
        "experiment_name = 'bi_gru_cnn'\n",
        "seeds = [42, 78687, 123123]\n",
        "combined_history = {}\n",
        "\n",
        "# Configuration\n",
        "config = {\n",
        "    \"embed_dim\": 256,\n",
        "    \"gru_units\": 128,\n",
        "    \"conv_filters\": 64,\n",
        "    \"kernel_size\": 3,\n",
        "    \"batch_size\": 32,\n",
        "    \"num_epochs\": 20,\n",
        "    \"learning_rate\": 1e-3\n",
        "}\n",
        "\n",
        "device = torch.device(\"cuda\" if torch.cuda.is_available() else \"cpu\")\n",
        "\n",
        "for seed in seeds:\n",
        "    print(f'\\nStarting for seed {seed}...')\n",
        "    print('-' * 100)\n",
        "\n",
        "    set_seed(seed)\n",
        "    combined_history[seed] = {}\n",
        "\n",
        "    # Split data\n",
        "    X_train, X_test, y_train, y_test = train_test_split(\n",
        "        df[[text_col_1, text_col_2]], df[target_col],\n",
        "        test_size=0.2, random_state=seed\n",
        "    )\n",
        "\n",
        "    # Tokenize\n",
        "    X_train_tokens = [simple_tokenize(txt1 + ' ' + txt2) for txt1, txt2 in zip(X_train[text_col_1], X_train[text_col_2])]\n",
        "    X_test_tokens = [simple_tokenize(txt1 + ' ' + txt2) for txt1, txt2 in zip(X_test[text_col_1], X_test[text_col_2])]\n",
        "\n",
        "    # Build vocabulary\n",
        "    word2idx = build_vocab(X_train_tokens, min_freq=2)\n",
        "    vocab_size = len(word2idx)\n",
        "\n",
        "    # Get sequences\n",
        "    row_max_length = max(max(len(t) for t in X_train_tokens),\n",
        "                        max(len(t) for t in X_test_tokens))\n",
        "\n",
        "    X_train_seq = [pad_sequence(text_to_seq(t, word2idx), row_max_length)\n",
        "                   for t in X_train_tokens]\n",
        "    X_test_seq = [pad_sequence(text_to_seq(t, word2idx), row_max_length)\n",
        "                  for t in X_test_tokens]\n",
        "\n",
        "    X_train_seq = np.array(X_train_seq)\n",
        "    X_test_seq = np.array(X_test_seq)\n",
        "\n",
        "    y_train = y_train.to_numpy(dtype=np.float32)\n",
        "    y_test = y_test.to_numpy(dtype=np.float32)\n",
        "\n",
        "    # Load pretrained word vectors\n",
        "    print(\"Loading pretrained word vectors...\")\n",
        "    if 'w2v_model' not in globals():\n",
        "        # Download the model if not already downloaded\n",
        "        !wget http://vectors.nlpl.eu/repository/20/180.zip -O rus_model.zip\n",
        "        !unzip rus_model.zip\n",
        "        from gensim.models import KeyedVectors\n",
        "        w2v_model = KeyedVectors.load_word2vec_format(\"/content/model.bin\", binary=True)\n",
        "\n",
        "    # Initialize embedding weights\n",
        "    weights_matrix = np.zeros((vocab_size, config[\"embed_dim\"]), dtype=np.float32)\n",
        "    for word, idx in word2idx.items():\n",
        "        if word in w2v_model:\n",
        "            weights_matrix[idx] = w2v_model[word]\n",
        "        else:\n",
        "            weights_matrix[idx] = np.random.normal(scale=0.6, size=(config[\"embed_dim\"],))\n",
        "\n",
        "    # Create datasets\n",
        "    train_dataset = TextDataset(X_train_seq, y_train)\n",
        "    test_dataset = TextDataset(X_test_seq, y_test)\n",
        "\n",
        "    # Create dataloaders\n",
        "    train_dataloader = DataLoader(train_dataset, batch_size=config[\"batch_size\"], shuffle=True)\n",
        "    test_dataloader = DataLoader(test_dataset, batch_size=config[\"batch_size\"], shuffle=False)\n",
        "\n",
        "    # Initialize model\n",
        "    model = BiGRUCNNModel(\n",
        "        vocab_size=vocab_size,\n",
        "        embed_dim=config[\"embed_dim\"],\n",
        "        gru_units=config[\"gru_units\"],\n",
        "        conv_filters=config[\"conv_filters\"],\n",
        "        kernel_size=config[\"kernel_size\"],\n",
        "        row_max_length=row_max_length\n",
        "    )\n",
        "\n",
        "    # Train and evaluate\n",
        "    history = fit_eval(\n",
        "        model=model,\n",
        "        train_dl=train_dataloader,\n",
        "        test_dl=test_dataloader,\n",
        "        num_epochs=config[\"num_epochs\"],\n",
        "        lr=config[\"learning_rate\"],\n",
        "        device=device\n",
        "    )\n",
        "\n",
        "    memory_cleanup()\n",
        "    combined_history[seed] = history\n",
        "\n",
        "# Display metrics\n",
        "print(\"\\nDisplaying metrics across all seeds...\")\n",
        "display_metrics_with_ci(combined_history)\n",
        "\n",
        "# Save history\n",
        "print(\"\\nSaving history...\")\n",
        "with open(f'./data/history/bi_gru_cnn_history.pickle', 'wb') as f:\n",
        "    pickle.dump(combined_history, f, protocol=pickle.HIGHEST_PROTOCOL)\n",
        "\n",
        "print(\"\\nExperiment completed successfully!\")"
      ]
    },
    {
      "cell_type": "code",
      "execution_count": null,
      "metadata": {
        "id": "NhxIwfEJTgTs",
        "colab": {
          "base_uri": "https://localhost:8080/"
        },
        "outputId": "2bba7f92-9a9d-4355-e75d-cfbf1f7a44e8"
      },
      "outputs": [
        {
          "output_type": "execute_result",
          "data": {
            "text/plain": [
              "2"
            ]
          },
          "metadata": {},
          "execution_count": 11
        }
      ],
      "source": [
        "1+1"
      ]
    },
    {
      "cell_type": "code",
      "execution_count": null,
      "metadata": {
        "id": "Y_rNM0RRTXcR"
      },
      "outputs": [],
      "source": []
    },
    {
      "cell_type": "code",
      "execution_count": null,
      "metadata": {
        "id": "VGpvhQ5FLGQs"
      },
      "outputs": [],
      "source": []
    }
  ],
  "metadata": {
    "accelerator": "GPU",
    "colab": {
      "gpuType": "A100",
      "machine_shape": "hm",
      "provenance": []
    },
    "kernelspec": {
      "display_name": "Python 3",
      "name": "python3"
    },
    "language_info": {
      "name": "python"
    }
  },
  "nbformat": 4,
  "nbformat_minor": 0
}