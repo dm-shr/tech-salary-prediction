{
 "cells": [
  {
   "cell_type": "code",
   "execution_count": null,
   "metadata": {
    "id": "Sk-KyZ45RSEE",
    "outputId": "ce2f855e-560c-479e-fc86-36d18ac3d099"
   },
   "outputs": [
    {
     "name": "stderr",
     "output_type": "stream",
     "text": [
      "c:\\projects\\ods_nlp_course\\.venv\\Lib\\site-packages\\tqdm\\auto.py:21: TqdmWarning: IProgress not found. Please update jupyter and ipywidgets. See https://ipywidgets.readthedocs.io/en/stable/user_install.html\n",
      "  from .autonotebook import tqdm as notebook_tqdm\n"
     ]
    },
    {
     "name": "stdout",
     "output_type": "stream",
     "text": [
      "Using device: cuda\n"
     ]
    }
   ],
   "source": [
    "import re\n",
    "\n",
    "import numpy as np\n",
    "import pandas as pd\n",
    "import torch\n",
    "from sklearn.metrics import f1_score\n",
    "from sklearn.model_selection import train_test_split\n",
    "from torch.utils.data import Dataset\n",
    "from tqdm import tqdm\n",
    "from transformers import (\n",
    "    AutoModel,\n",
    "    AutoModelForSequenceClassification,\n",
    "    AutoTokenizer,\n",
    "    Trainer,\n",
    "    TrainingArguments,\n",
    ")\n",
    "\n",
    "device = torch.device(\"cuda\" if torch.cuda.is_available() else \"cpu\")\n",
    "print(f\"Using device: {device}\")\n"
   ]
  },
  {
   "cell_type": "code",
   "execution_count": null,
   "metadata": {
    "id": "KEvRz_M3RSEJ"
   },
   "outputs": [],
   "source": [
    "data = pd.read_csv(\"data/train.csv.csv\")\n",
    "texts = data[\"text\"].tolist()\n",
    "rates = data[\"rate\"].tolist()"
   ]
  },
  {
   "cell_type": "code",
   "execution_count": null,
   "metadata": {
    "id": "LcvnHhb_RSEK"
   },
   "outputs": [],
   "source": [
    "# Функция предобработки текста\n",
    "def preprocess_text(text):\n",
    "    # Приводим текст к нижнему регистру\n",
    "    text = text.lower()\n",
    "    # Удаляем лишние символы и цифры\n",
    "    text = re.sub(r\"[^а-яА-ЯёЁa-zA-Z\\s]\", \"\", text)\n",
    "    # Удаляем лишние пробелы\n",
    "    text = re.sub(r\"\\s+\", \" \", text).strip()\n",
    "    return text\n",
    "\n",
    "\n",
    "# Применим предобработку к данным\n",
    "data[\"text\"] = data[\"text\"].apply(preprocess_text)\n"
   ]
  },
  {
   "cell_type": "code",
   "execution_count": null,
   "metadata": {
    "id": "jkWr48LVRSEK"
   },
   "outputs": [],
   "source": [
    "# Разделение данных\n",
    "train_texts, test_texts, train_labels, test_labels = train_test_split(\n",
    "    data[\"text\"].tolist(),\n",
    "    data[\"rate\"].tolist(),\n",
    "    stratify=data[\"rate\"],\n",
    "    test_size=0.2,\n",
    "    random_state=42,\n",
    ")\n",
    "\n",
    "# Загрузка токенайзера для модели\n",
    "tokenizer = AutoTokenizer.from_pretrained(\"intfloat/multilingual-e5-large-instruct\")\n",
    "\n",
    "# Токенизация текстов\n",
    "train_encodings = tokenizer(\n",
    "    train_texts, truncation=True, padding=True, max_length=128\n",
    ")  # 514\n",
    "test_encodings = tokenizer(test_texts, truncation=True, padding=True, max_length=128)\n",
    "\n",
    "# Преобразуем метки в тензоры\n",
    "train_labels = torch.tensor([t - 1 for t in train_labels])\n",
    "test_labels = torch.tensor([t - 1 for t in test_labels])"
   ]
  },
  {
   "cell_type": "code",
   "execution_count": null,
   "metadata": {
    "id": "6qUpMwNXRSEM"
   },
   "outputs": [],
   "source": [
    "class ReviewDataset(Dataset):\n",
    "    def __init__(self, encodings, labels):\n",
    "        self.encodings = encodings\n",
    "        self.labels = labels\n",
    "\n",
    "    def __getitem__(self, idx):\n",
    "        item = {key: torch.tensor(val[idx]) for key, val in self.encodings.items()}\n",
    "        item[\"labels\"] = self.labels[idx]\n",
    "        return item\n",
    "\n",
    "    def __len__(self):\n",
    "        return len(self.labels)\n",
    "\n",
    "\n",
    "# Создание датасетов\n",
    "train_dataset = ReviewDataset(train_encodings, train_labels)\n",
    "test_dataset = ReviewDataset(test_encodings, test_labels)"
   ]
  },
  {
   "cell_type": "code",
   "execution_count": null,
   "metadata": {
    "id": "du07VefWRSEM",
    "outputId": "1933335e-4394-4514-8abc-b4134eb62ca1"
   },
   "outputs": [
    {
     "name": "stdout",
     "output_type": "stream",
     "text": [
      "5\n"
     ]
    },
    {
     "name": "stderr",
     "output_type": "stream",
     "text": [
      "Some weights of XLMRobertaForSequenceClassification were not initialized from the model checkpoint at intfloat/multilingual-e5-large-instruct and are newly initialized: ['classifier.dense.bias', 'classifier.dense.weight', 'classifier.out_proj.bias', 'classifier.out_proj.weight']\n",
      "You should probably TRAIN this model on a down-stream task to be able to use it for predictions and inference.\n"
     ]
    }
   ],
   "source": [
    "# Определение количества классов\n",
    "num_labels = len(set(data[\"rate\"]))\n",
    "print(num_labels)\n",
    "\n",
    "# Загрузка модели\n",
    "model = AutoModelForSequenceClassification.from_pretrained(\n",
    "    \"intfloat/multilingual-e5-large-instruct\", num_labels=num_labels\n",
    ")\n",
    "\n",
    "# чтобы заморозить веса модели и обучать только линейный слой после\n",
    "# for param in model.base_model.parameters():\n",
    "#     param.requires_grad = False\n"
   ]
  },
  {
   "cell_type": "code",
   "execution_count": null,
   "metadata": {
    "id": "MDoELVCRRSEN"
   },
   "outputs": [],
   "source": [
    "# Функция для расчета F1 macro\n",
    "def compute_metrics(pred):\n",
    "    labels = pred.label_ids\n",
    "    preds = pred.predictions.argmax(-1)\n",
    "    f1 = f1_score(labels, preds, average=\"macro\")\n",
    "    return {\"f1_macro\": f1}\n"
   ]
  },
  {
   "cell_type": "code",
   "execution_count": null,
   "metadata": {
    "id": "N-51MAVtRSEO"
   },
   "outputs": [],
   "source": [
    "# Параметры обучения\n",
    "training_args = TrainingArguments(\n",
    "    output_dir=\"./results\",  # Папка для сохранения модели\n",
    "    eval_strategy=\"epoch\",  # Оценка на тестовой выборке каждый эпоху\n",
    "    save_strategy=\"epoch\",\n",
    "    logging_dir=\"./logs\",  # Папка для логов\n",
    "    per_device_train_batch_size=32,  # Размер batch для обучения\n",
    "    per_device_eval_batch_size=32,  # Размер batch для оценки\n",
    "    num_train_epochs=3,  # Количество эпох\n",
    "    weight_decay=0.01,  # Коэффициент L2 регуляризации\n",
    "    load_best_model_at_end=True,  # Загрузка лучшей модели по итогам оценки\n",
    "    metric_for_best_model=\"f1_macro\",  # Метрика для выбора лучшей модели\n",
    "    logging_steps=10,\n",
    "    # fp16=True\n",
    "    # use_cpu=True\n",
    ")\n",
    "\n",
    "# Инициализация Trainer\n",
    "trainer = Trainer(\n",
    "    model=model,\n",
    "    args=training_args,\n",
    "    train_dataset=train_dataset,\n",
    "    eval_dataset=test_dataset,\n",
    "    compute_metrics=compute_metrics,\n",
    ")"
   ]
  },
  {
   "cell_type": "code",
   "execution_count": null,
   "metadata": {
    "id": "kQsi3OVjRSEO"
   },
   "outputs": [],
   "source": [
    "# Обучение модели\n",
    "trainer.train()"
   ]
  },
  {
   "cell_type": "code",
   "execution_count": null,
   "metadata": {
    "id": "AfKICgvnRSEP",
    "outputId": "25c3b10f-fd4c-4c33-9fb4-44772e5b40dd"
   },
   "outputs": [
    {
     "name": "stderr",
     "output_type": "stream",
     "text": [
      "100%|██████████| 305/305 [01:52<00:00,  2.71it/s]"
     ]
    },
    {
     "name": "stdout",
     "output_type": "stream",
     "text": [
      "Test F1 Macro Score: 0.5179128139688565\n",
      "Test F1 Micro Score: 0.6937223877530052\n",
      "Classification Report:\n",
      "               precision    recall  f1-score   support\n",
      "\n",
      "           0       0.62      0.65      0.64       828\n",
      "           1       0.33      0.09      0.14       482\n",
      "           2       0.44      0.53      0.48      1225\n",
      "           3       0.52      0.44      0.48      1984\n",
      "           4       0.83      0.89      0.86      5214\n",
      "\n",
      "    accuracy                           0.69      9733\n",
      "   macro avg       0.55      0.52      0.52      9733\n",
      "weighted avg       0.68      0.69      0.68      9733\n",
      "\n"
     ]
    },
    {
     "name": "stderr",
     "output_type": "stream",
     "text": [
      "\n"
     ]
    }
   ],
   "source": [
    "# Оценка\n",
    "from sklearn.metrics import classification_report\n",
    "\n",
    "predictions = trainer.predict(test_dataset)\n",
    "preds = predictions.predictions.argmax(-1)\n",
    "\n",
    "f1_macro = f1_score(test_labels, preds, average=\"macro\")\n",
    "f1_micro = f1_score(test_labels, preds, average=\"micro\")\n",
    "print(\"Test F1 Macro Score:\", f1_macro)\n",
    "print(\"Test F1 Micro Score:\", f1_micro)\n",
    "print(\"Classification Report:\\n\", classification_report(test_labels, preds))\n"
   ]
  },
  {
   "cell_type": "code",
   "execution_count": null,
   "metadata": {
    "id": "lX7DSPTcRSEQ",
    "outputId": "c000e54c-42ba-462c-e031-bfdc9e189d72"
   },
   "outputs": [
    {
     "data": {
      "text/html": [
       "<div>\n",
       "<style scoped>\n",
       "    .dataframe tbody tr th:only-of-type {\n",
       "        vertical-align: middle;\n",
       "    }\n",
       "\n",
       "    .dataframe tbody tr th {\n",
       "        vertical-align: top;\n",
       "    }\n",
       "\n",
       "    .dataframe thead th {\n",
       "        text-align: right;\n",
       "    }\n",
       "</style>\n",
       "<table border=\"1\" class=\"dataframe\">\n",
       "  <thead>\n",
       "    <tr style=\"text-align: right;\">\n",
       "      <th></th>\n",
       "      <th>index</th>\n",
       "      <th>text</th>\n",
       "    </tr>\n",
       "  </thead>\n",
       "  <tbody>\n",
       "    <tr>\n",
       "      <th>0</th>\n",
       "      <td>0</td>\n",
       "      <td>очень хороший магазин и сотрудники приятный</td>\n",
       "    </tr>\n",
       "    <tr>\n",
       "      <th>1</th>\n",
       "      <td>1</td>\n",
       "      <td>самый обычный продуктовый магазин есть сыры ко...</td>\n",
       "    </tr>\n",
       "    <tr>\n",
       "      <th>2</th>\n",
       "      <td>2</td>\n",
       "      <td>всё хорошо и комфортно</td>\n",
       "    </tr>\n",
       "    <tr>\n",
       "      <th>3</th>\n",
       "      <td>3</td>\n",
       "      <td>маленький филиальчик все необходимое есть две ...</td>\n",
       "    </tr>\n",
       "    <tr>\n",
       "      <th>4</th>\n",
       "      <td>4</td>\n",
       "      <td>плохо относятся к клиентам</td>\n",
       "    </tr>\n",
       "  </tbody>\n",
       "</table>\n",
       "</div>"
      ],
      "text/plain": [
       "   index                                               text\n",
       "0      0        очень хороший магазин и сотрудники приятный\n",
       "1      1  самый обычный продуктовый магазин есть сыры ко...\n",
       "2      2                             всё хорошо и комфортно\n",
       "3      3  маленький филиальчик все необходимое есть две ...\n",
       "4      4                         плохо относятся к клиентам"
      ]
     },
     "execution_count": 14,
     "metadata": {},
     "output_type": "execute_result"
    }
   ],
   "source": [
    "ss = pd.read_csv(\"data/test.csv.csv\")\n",
    "ss[\"text\"] = ss[\"text\"].apply(preprocess_text)\n",
    "ss.head()\n"
   ]
  },
  {
   "cell_type": "code",
   "execution_count": null,
   "metadata": {
    "id": "aSp0x5RmRSEQ"
   },
   "outputs": [],
   "source": [
    "# Путь к папке с чекпоинтом\n",
    "checkpoint_path = (\n",
    "    \"./results/checkpoint-3651\"  # Замените на путь, где была сохранена модель\n",
    ")\n",
    "\n",
    "# Загрузка модели и токенизатора, если их нет в памяти сейчас\n",
    "model = AutoModelForSequenceClassification.from_pretrained(checkpoint_path).to(device)\n",
    "tokenizer = AutoTokenizer.from_pretrained(\"intfloat/multilingual-e5-large-instruct\")"
   ]
  },
  {
   "cell_type": "code",
   "execution_count": null,
   "metadata": {
    "id": "WwLFUtzcRSER"
   },
   "outputs": [],
   "source": [
    "def get_embeddings_batchwise(texts, batch_size=16):\n",
    "    predicted_classes = []\n",
    "    for i in tqdm(range(0, len(texts), batch_size), desc=\"Processing batches\"):\n",
    "        batch_texts = texts[i : i + batch_size]\n",
    "        inputs = tokenizer(\n",
    "            batch_texts,\n",
    "            return_tensors=\"pt\",\n",
    "            padding=True,\n",
    "            truncation=True,\n",
    "            max_length=128,\n",
    "        ).to(device)\n",
    "\n",
    "        # Отключаем градиенты, чтобы уменьшить использование памяти\n",
    "        with torch.no_grad():\n",
    "            outputs = model(**inputs)\n",
    "\n",
    "        predicted_class = outputs.logits.argmax(-1).cpu().numpy()\n",
    "        predicted_classes.append(predicted_class)\n",
    "\n",
    "    # Объединяем все батчи в один массив\n",
    "    return np.concatenate(predicted_classes)\n",
    "\n",
    "\n",
    "# Получаем эмбеддинги с использованием GPU по батчам, если вдруг все сразу не влезает в память\n",
    "# В этой задаче вроде не обязательно\n",
    "predicted_classes = get_embeddings_batchwise(ss[\"text\"].tolist(), batch_size=32)"
   ]
  },
  {
   "cell_type": "code",
   "execution_count": null,
   "metadata": {
    "id": "PGM-D4iDRSER",
    "outputId": "4d3f941d-3809-4ae8-f592-4666606471e6"
   },
   "outputs": [
    {
     "data": {
      "text/html": [
       "<div>\n",
       "<style scoped>\n",
       "    .dataframe tbody tr th:only-of-type {\n",
       "        vertical-align: middle;\n",
       "    }\n",
       "\n",
       "    .dataframe tbody tr th {\n",
       "        vertical-align: top;\n",
       "    }\n",
       "\n",
       "    .dataframe thead th {\n",
       "        text-align: right;\n",
       "    }\n",
       "</style>\n",
       "<table border=\"1\" class=\"dataframe\">\n",
       "  <thead>\n",
       "    <tr style=\"text-align: right;\">\n",
       "      <th></th>\n",
       "      <th>index</th>\n",
       "      <th>text</th>\n",
       "      <th>rate</th>\n",
       "    </tr>\n",
       "  </thead>\n",
       "  <tbody>\n",
       "    <tr>\n",
       "      <th>0</th>\n",
       "      <td>0</td>\n",
       "      <td>очень хороший магазин и сотрудники приятный</td>\n",
       "      <td>5</td>\n",
       "    </tr>\n",
       "    <tr>\n",
       "      <th>1</th>\n",
       "      <td>1</td>\n",
       "      <td>самый обычный продуктовый магазин есть сыры ко...</td>\n",
       "      <td>5</td>\n",
       "    </tr>\n",
       "    <tr>\n",
       "      <th>2</th>\n",
       "      <td>2</td>\n",
       "      <td>всё хорошо и комфортно</td>\n",
       "      <td>5</td>\n",
       "    </tr>\n",
       "    <tr>\n",
       "      <th>3</th>\n",
       "      <td>3</td>\n",
       "      <td>маленький филиальчик все необходимое есть две ...</td>\n",
       "      <td>5</td>\n",
       "    </tr>\n",
       "    <tr>\n",
       "      <th>4</th>\n",
       "      <td>4</td>\n",
       "      <td>плохо относятся к клиентам</td>\n",
       "      <td>1</td>\n",
       "    </tr>\n",
       "    <tr>\n",
       "      <th>5</th>\n",
       "      <td>5</td>\n",
       "      <td>после недавнего ремонта стало намного лучше чи...</td>\n",
       "      <td>4</td>\n",
       "    </tr>\n",
       "    <tr>\n",
       "      <th>6</th>\n",
       "      <td>6</td>\n",
       "      <td>мух полно особенно где мясо жуть</td>\n",
       "      <td>1</td>\n",
       "    </tr>\n",
       "    <tr>\n",
       "      <th>7</th>\n",
       "      <td>7</td>\n",
       "      <td>хороший продавцы</td>\n",
       "      <td>5</td>\n",
       "    </tr>\n",
       "    <tr>\n",
       "      <th>8</th>\n",
       "      <td>8</td>\n",
       "      <td>удобный и чистый магазинприветливый директор</td>\n",
       "      <td>5</td>\n",
       "    </tr>\n",
       "    <tr>\n",
       "      <th>9</th>\n",
       "      <td>9</td>\n",
       "      <td>хороший магазин хороший ассортимент чисто перс...</td>\n",
       "      <td>5</td>\n",
       "    </tr>\n",
       "  </tbody>\n",
       "</table>\n",
       "</div>"
      ],
      "text/plain": [
       "   index                                               text  rate\n",
       "0      0        очень хороший магазин и сотрудники приятный     5\n",
       "1      1  самый обычный продуктовый магазин есть сыры ко...     5\n",
       "2      2                             всё хорошо и комфортно     5\n",
       "3      3  маленький филиальчик все необходимое есть две ...     5\n",
       "4      4                         плохо относятся к клиентам     1\n",
       "5      5  после недавнего ремонта стало намного лучше чи...     4\n",
       "6      6                   мух полно особенно где мясо жуть     1\n",
       "7      7                                   хороший продавцы     5\n",
       "8      8       удобный и чистый магазинприветливый директор     5\n",
       "9      9  хороший магазин хороший ассортимент чисто перс...     5"
      ]
     },
     "execution_count": 17,
     "metadata": {},
     "output_type": "execute_result"
    }
   ],
   "source": [
    "ss[\"rate\"] = predicted_classes + 1\n",
    "ss.head(10)"
   ]
  },
  {
   "cell_type": "code",
   "execution_count": null,
   "metadata": {
    "id": "t5BjHMK9RSES"
   },
   "outputs": [],
   "source": [
    "ss[[\"index\", \"rate\"]].to_csv(\"sample_submission_v2.csv\", index=False)"
   ]
  },
  {
   "cell_type": "code",
   "execution_count": null,
   "metadata": {
    "id": "jYSUSSsWRSET"
   },
   "outputs": [],
   "source": []
  },
  {
   "cell_type": "code",
   "execution_count": null,
   "metadata": {
    "id": "CrFONN-JRSET"
   },
   "outputs": [],
   "source": []
  },
  {
   "cell_type": "code",
   "execution_count": null,
   "metadata": {
    "id": "p4_Ml65jRSEU"
   },
   "outputs": [],
   "source": []
  }
 ],
 "metadata": {
  "colab": {
   "provenance": []
  },
  "kernelspec": {
   "display_name": "Python 3",
   "language": "python",
   "name": "python3"
  },
  "language_info": {
   "codemirror_mode": {
    "name": "ipython",
    "version": 3
   },
   "file_extension": ".py",
   "mimetype": "text/x-python",
   "name": "python",
   "nbconvert_exporter": "python",
   "pygments_lexer": "ipython3",
   "version": "3.12.4"
  }
 },
 "nbformat": 4,
 "nbformat_minor": 0
}
